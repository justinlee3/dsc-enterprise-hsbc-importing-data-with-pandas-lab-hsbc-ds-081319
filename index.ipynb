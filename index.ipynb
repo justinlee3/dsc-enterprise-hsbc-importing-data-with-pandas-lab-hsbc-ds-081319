{
 "cells": [
  {
   "cell_type": "markdown",
   "metadata": {},
   "source": [
    "# Importing Data Using Pandas - Lab\n",
    "\n",
    "## Introduction\n",
    "\n",
    "In this lab, you'll get some practice with loading files with summary or metadata, and if you find that easy, the optional \"level up\" content covers loading data from a corrupted csv file!\n",
    "\n",
    "## Objectives\n",
    "You will be able to:\n",
    "* Import data from csv files and Excel files\n",
    "* Understand and explain key arguments for imports\n",
    "* Save information to csv and Excel files\n",
    "* Access data within a Pandas DataFrame (print() and .head())\n",
    "\n",
    "##  Loading Files with Summary or Meta Data\n",
    "\n",
    "Load either of the files Zipcode_Demos.csv or Zipcode_Demos.xlsx. What's going on with this dataset? Clean it up into a useable format and describe the nuances of how the data is currently formatted.\n",
    "\n",
    "All data files are stored in a folder titled 'Data'."
   ]
  },
  {
   "cell_type": "code",
   "execution_count": 29,
   "metadata": {},
   "outputs": [],
   "source": [
    "import pandas as pd\n",
    "data1 = pd.read_csv(\"Data/Zipcode_Demos.csv\", skiprows = 1, nrows = 45, usecols = [0,1,2])\n",
    "data2 = pd.read_csv(\"Data/Zipcode_Demos.csv\", skiprows = 47)"
   ]
  },
  {
   "cell_type": "code",
   "execution_count": 30,
   "metadata": {},
   "outputs": [
    {
     "data": {
      "text/html": [
       "<div>\n",
       "<style scoped>\n",
       "    .dataframe tbody tr th:only-of-type {\n",
       "        vertical-align: middle;\n",
       "    }\n",
       "\n",
       "    .dataframe tbody tr th {\n",
       "        vertical-align: top;\n",
       "    }\n",
       "\n",
       "    .dataframe thead th {\n",
       "        text-align: right;\n",
       "    }\n",
       "</style>\n",
       "<table border=\"1\" class=\"dataframe\">\n",
       "  <thead>\n",
       "    <tr style=\"text-align: right;\">\n",
       "      <th></th>\n",
       "      <th>Unnamed: 1</th>\n",
       "      <th>0</th>\n",
       "    </tr>\n",
       "  </thead>\n",
       "  <tbody>\n",
       "    <tr>\n",
       "      <th>0</th>\n",
       "      <td>JURISDICTION NAME</td>\n",
       "      <td>10005.800</td>\n",
       "    </tr>\n",
       "    <tr>\n",
       "      <th>1</th>\n",
       "      <td>COUNT PARTICIPANTS</td>\n",
       "      <td>9.400</td>\n",
       "    </tr>\n",
       "    <tr>\n",
       "      <th>2</th>\n",
       "      <td>COUNT FEMALE</td>\n",
       "      <td>4.800</td>\n",
       "    </tr>\n",
       "    <tr>\n",
       "      <th>3</th>\n",
       "      <td>PERCENT FEMALE</td>\n",
       "      <td>0.404</td>\n",
       "    </tr>\n",
       "    <tr>\n",
       "      <th>4</th>\n",
       "      <td>COUNT MALE</td>\n",
       "      <td>4.600</td>\n",
       "    </tr>\n",
       "    <tr>\n",
       "      <th>5</th>\n",
       "      <td>PERCENT MALE</td>\n",
       "      <td>0.396</td>\n",
       "    </tr>\n",
       "    <tr>\n",
       "      <th>6</th>\n",
       "      <td>COUNT GENDER UNKNOWN</td>\n",
       "      <td>0.000</td>\n",
       "    </tr>\n",
       "    <tr>\n",
       "      <th>7</th>\n",
       "      <td>PERCENT GENDER UNKNOWN</td>\n",
       "      <td>0.000</td>\n",
       "    </tr>\n",
       "    <tr>\n",
       "      <th>8</th>\n",
       "      <td>COUNT GENDER TOTAL</td>\n",
       "      <td>9.400</td>\n",
       "    </tr>\n",
       "    <tr>\n",
       "      <th>9</th>\n",
       "      <td>PERCENT GENDER TOTAL</td>\n",
       "      <td>80.000</td>\n",
       "    </tr>\n",
       "    <tr>\n",
       "      <th>10</th>\n",
       "      <td>COUNT PACIFIC ISLANDER</td>\n",
       "      <td>0.000</td>\n",
       "    </tr>\n",
       "    <tr>\n",
       "      <th>11</th>\n",
       "      <td>PERCENT PACIFIC ISLANDER</td>\n",
       "      <td>0.000</td>\n",
       "    </tr>\n",
       "    <tr>\n",
       "      <th>12</th>\n",
       "      <td>COUNT HISPANIC LATINO</td>\n",
       "      <td>2.000</td>\n",
       "    </tr>\n",
       "    <tr>\n",
       "      <th>13</th>\n",
       "      <td>PERCENT HISPANIC LATINO</td>\n",
       "      <td>0.105</td>\n",
       "    </tr>\n",
       "    <tr>\n",
       "      <th>14</th>\n",
       "      <td>COUNT AMERICAN INDIAN</td>\n",
       "      <td>0.000</td>\n",
       "    </tr>\n",
       "    <tr>\n",
       "      <th>15</th>\n",
       "      <td>PERCENT AMERICAN INDIAN</td>\n",
       "      <td>0.000</td>\n",
       "    </tr>\n",
       "    <tr>\n",
       "      <th>16</th>\n",
       "      <td>COUNT ASIAN NON HISPANIC</td>\n",
       "      <td>3.600</td>\n",
       "    </tr>\n",
       "    <tr>\n",
       "      <th>17</th>\n",
       "      <td>PERCENT ASIAN NON HISPANIC</td>\n",
       "      <td>0.437</td>\n",
       "    </tr>\n",
       "    <tr>\n",
       "      <th>18</th>\n",
       "      <td>COUNT WHITE NON HISPANIC</td>\n",
       "      <td>0.800</td>\n",
       "    </tr>\n",
       "    <tr>\n",
       "      <th>19</th>\n",
       "      <td>PERCENT WHITE NON HISPANIC</td>\n",
       "      <td>0.036</td>\n",
       "    </tr>\n",
       "    <tr>\n",
       "      <th>20</th>\n",
       "      <td>COUNT BLACK NON HISPANIC</td>\n",
       "      <td>2.600</td>\n",
       "    </tr>\n",
       "    <tr>\n",
       "      <th>21</th>\n",
       "      <td>PERCENT BLACK NON HISPANIC</td>\n",
       "      <td>0.181</td>\n",
       "    </tr>\n",
       "    <tr>\n",
       "      <th>22</th>\n",
       "      <td>COUNT OTHER ETHNICITY</td>\n",
       "      <td>0.400</td>\n",
       "    </tr>\n",
       "    <tr>\n",
       "      <th>23</th>\n",
       "      <td>PERCENT OTHER ETHNICITY</td>\n",
       "      <td>0.040</td>\n",
       "    </tr>\n",
       "    <tr>\n",
       "      <th>24</th>\n",
       "      <td>COUNT ETHNICITY UNKNOWN</td>\n",
       "      <td>0.000</td>\n",
       "    </tr>\n",
       "    <tr>\n",
       "      <th>25</th>\n",
       "      <td>PERCENT ETHNICITY UNKNOWN</td>\n",
       "      <td>0.000</td>\n",
       "    </tr>\n",
       "    <tr>\n",
       "      <th>26</th>\n",
       "      <td>COUNT ETHNICITY TOTAL</td>\n",
       "      <td>9.400</td>\n",
       "    </tr>\n",
       "    <tr>\n",
       "      <th>27</th>\n",
       "      <td>PERCENT ETHNICITY TOTAL</td>\n",
       "      <td>79.900</td>\n",
       "    </tr>\n",
       "    <tr>\n",
       "      <th>28</th>\n",
       "      <td>COUNT PERMANENT RESIDENT ALIEN</td>\n",
       "      <td>0.500</td>\n",
       "    </tr>\n",
       "    <tr>\n",
       "      <th>29</th>\n",
       "      <td>PERCENT PERMANENT RESIDENT ALIEN</td>\n",
       "      <td>0.061</td>\n",
       "    </tr>\n",
       "    <tr>\n",
       "      <th>30</th>\n",
       "      <td>COUNT US CITIZEN</td>\n",
       "      <td>8.900</td>\n",
       "    </tr>\n",
       "    <tr>\n",
       "      <th>31</th>\n",
       "      <td>PERCENT US CITIZEN</td>\n",
       "      <td>0.739</td>\n",
       "    </tr>\n",
       "    <tr>\n",
       "      <th>32</th>\n",
       "      <td>COUNT OTHER CITIZEN STATUS</td>\n",
       "      <td>0.000</td>\n",
       "    </tr>\n",
       "    <tr>\n",
       "      <th>33</th>\n",
       "      <td>PERCENT OTHER CITIZEN STATUS</td>\n",
       "      <td>0.000</td>\n",
       "    </tr>\n",
       "    <tr>\n",
       "      <th>34</th>\n",
       "      <td>COUNT CITIZEN STATUS UNKNOWN</td>\n",
       "      <td>0.000</td>\n",
       "    </tr>\n",
       "    <tr>\n",
       "      <th>35</th>\n",
       "      <td>PERCENT CITIZEN STATUS UNKNOWN</td>\n",
       "      <td>0.000</td>\n",
       "    </tr>\n",
       "    <tr>\n",
       "      <th>36</th>\n",
       "      <td>COUNT CITIZEN STATUS TOTAL</td>\n",
       "      <td>9.400</td>\n",
       "    </tr>\n",
       "    <tr>\n",
       "      <th>37</th>\n",
       "      <td>PERCENT CITIZEN STATUS TOTAL</td>\n",
       "      <td>80.000</td>\n",
       "    </tr>\n",
       "    <tr>\n",
       "      <th>38</th>\n",
       "      <td>COUNT RECEIVES PUBLIC ASSISTANCE</td>\n",
       "      <td>2.300</td>\n",
       "    </tr>\n",
       "    <tr>\n",
       "      <th>39</th>\n",
       "      <td>PERCENT RECEIVES PUBLIC ASSISTANCE</td>\n",
       "      <td>0.151</td>\n",
       "    </tr>\n",
       "    <tr>\n",
       "      <th>40</th>\n",
       "      <td>COUNT NRECEIVES PUBLIC ASSISTANCE</td>\n",
       "      <td>7.100</td>\n",
       "    </tr>\n",
       "    <tr>\n",
       "      <th>41</th>\n",
       "      <td>PERCENT NRECEIVES PUBLIC ASSISTANCE</td>\n",
       "      <td>0.649</td>\n",
       "    </tr>\n",
       "    <tr>\n",
       "      <th>42</th>\n",
       "      <td>COUNT PUBLIC ASSISTANCE UNKNOWN</td>\n",
       "      <td>0.000</td>\n",
       "    </tr>\n",
       "    <tr>\n",
       "      <th>43</th>\n",
       "      <td>PERCENT PUBLIC ASSISTANCE UNKNOWN</td>\n",
       "      <td>0.000</td>\n",
       "    </tr>\n",
       "    <tr>\n",
       "      <th>44</th>\n",
       "      <td>COUNT PUBLIC ASSISTANCE TOTAL</td>\n",
       "      <td>9.400</td>\n",
       "    </tr>\n",
       "  </tbody>\n",
       "</table>\n",
       "</div>"
      ],
      "text/plain": [
       "                             Unnamed: 1          0\n",
       "0                     JURISDICTION NAME  10005.800\n",
       "1                    COUNT PARTICIPANTS      9.400\n",
       "2                          COUNT FEMALE      4.800\n",
       "3                        PERCENT FEMALE      0.404\n",
       "4                            COUNT MALE      4.600\n",
       "5                          PERCENT MALE      0.396\n",
       "6                  COUNT GENDER UNKNOWN      0.000\n",
       "7                PERCENT GENDER UNKNOWN      0.000\n",
       "8                    COUNT GENDER TOTAL      9.400\n",
       "9                  PERCENT GENDER TOTAL     80.000\n",
       "10               COUNT PACIFIC ISLANDER      0.000\n",
       "11             PERCENT PACIFIC ISLANDER      0.000\n",
       "12                COUNT HISPANIC LATINO      2.000\n",
       "13              PERCENT HISPANIC LATINO      0.105\n",
       "14                COUNT AMERICAN INDIAN      0.000\n",
       "15              PERCENT AMERICAN INDIAN      0.000\n",
       "16             COUNT ASIAN NON HISPANIC      3.600\n",
       "17           PERCENT ASIAN NON HISPANIC      0.437\n",
       "18             COUNT WHITE NON HISPANIC      0.800\n",
       "19           PERCENT WHITE NON HISPANIC      0.036\n",
       "20             COUNT BLACK NON HISPANIC      2.600\n",
       "21           PERCENT BLACK NON HISPANIC      0.181\n",
       "22                COUNT OTHER ETHNICITY      0.400\n",
       "23              PERCENT OTHER ETHNICITY      0.040\n",
       "24              COUNT ETHNICITY UNKNOWN      0.000\n",
       "25            PERCENT ETHNICITY UNKNOWN      0.000\n",
       "26                COUNT ETHNICITY TOTAL      9.400\n",
       "27              PERCENT ETHNICITY TOTAL     79.900\n",
       "28       COUNT PERMANENT RESIDENT ALIEN      0.500\n",
       "29     PERCENT PERMANENT RESIDENT ALIEN      0.061\n",
       "30                     COUNT US CITIZEN      8.900\n",
       "31                   PERCENT US CITIZEN      0.739\n",
       "32           COUNT OTHER CITIZEN STATUS      0.000\n",
       "33         PERCENT OTHER CITIZEN STATUS      0.000\n",
       "34         COUNT CITIZEN STATUS UNKNOWN      0.000\n",
       "35       PERCENT CITIZEN STATUS UNKNOWN      0.000\n",
       "36           COUNT CITIZEN STATUS TOTAL      9.400\n",
       "37         PERCENT CITIZEN STATUS TOTAL     80.000\n",
       "38     COUNT RECEIVES PUBLIC ASSISTANCE      2.300\n",
       "39   PERCENT RECEIVES PUBLIC ASSISTANCE      0.151\n",
       "40    COUNT NRECEIVES PUBLIC ASSISTANCE      7.100\n",
       "41  PERCENT NRECEIVES PUBLIC ASSISTANCE      0.649\n",
       "42      COUNT PUBLIC ASSISTANCE UNKNOWN      0.000\n",
       "43    PERCENT PUBLIC ASSISTANCE UNKNOWN      0.000\n",
       "44        COUNT PUBLIC ASSISTANCE TOTAL      9.400"
      ]
     },
     "execution_count": 30,
     "metadata": {},
     "output_type": "execute_result"
    }
   ],
   "source": [
    "# Your code here - Perform exploratory data analysis\n",
    "data1.drop(\"1\", inplace = True, axis = 1)\n",
    "data2.drop(\"47\", inplace = True, axis = 1)\n",
    "data1"
   ]
  },
  {
   "cell_type": "code",
   "execution_count": null,
   "metadata": {},
   "outputs": [],
   "source": [
    "# What is going on with this data set? Anything unusual?"
   ]
  },
  {
   "cell_type": "code",
   "execution_count": null,
   "metadata": {},
   "outputs": [],
   "source": [
    "# Your code here - Clean up the data set"
   ]
  },
  {
   "cell_type": "markdown",
   "metadata": {},
   "source": [
    "## Level Up (Optional) - Loading Corrupt CSV files\n",
    "\n",
    "Occasionally, you encounter some really ill formatted data. One example of this can be data that has strings containing commas in a csv file. Under the standard protocol, when this occurs, one is supposed to use quotes to differentiate between the commas denoting fields and commas within those fields themselves. For example, we could have a table like this:  \n",
    "\n",
    "ReviewerID,Rating,N_reviews,Review,VenueID\n",
    "123456,4,137,This restaurant was pretty good, we had a great time.,98765\n",
    "\n",
    "Which should be saved like this if it were a csv (to avoid confusion with the commas in the Review text):\n",
    "\"ReviewerID\",\"Rating\",\"N_reviews\",\"Review\",\"VenueID\"\n",
    "\"123456\",\"4\",\"137\",\"This restaurant was pretty good, we had a great time.\",\"98765\"\n",
    "\n",
    "Attempt to import the corrupt file, or at least a small preview of it. It is appropriately titled Yelp_Reviews_corrupt.csv. Investigate some of the intricacies of skipping rows to then pass over this error and comment on what you think is going on."
   ]
  },
  {
   "cell_type": "code",
   "execution_count": 42,
   "metadata": {},
   "outputs": [
    {
     "name": "stdout",
     "output_type": "stream",
     "text": [
      "Error tokenizing data. C error: Expected 10 fields in line 2331, saw 11\n",
      "\n"
     ]
    }
   ],
   "source": [
    "#Hint: here's a useful programming pattern to use.\n",
    "#Your code here\n",
    "try:\n",
    "    df = pd.read_csv('Data/Yelp_Reviews_Corrupt.csv')\n",
    "except Exception as e:\n",
    "    print(e)"
   ]
  },
  {
   "cell_type": "markdown",
   "metadata": {},
   "source": [
    "## Summary\n",
    "\n",
    "Congratulations, you now practiced your pandas-importing skills!"
   ]
  },
  {
   "cell_type": "code",
   "execution_count": 34,
   "metadata": {},
   "outputs": [
    {
     "data": {
      "text/plain": [
       "'/home/asynchronous-sandbox-7764/dsc-enterprise-hsbc-importing-data-with-pandas-lab-hsbc-ds-081319'"
      ]
     },
     "execution_count": 34,
     "metadata": {},
     "output_type": "execute_result"
    }
   ],
   "source": [
    "import os\n",
    "os.getcwd()"
   ]
  },
  {
   "cell_type": "code",
   "execution_count": 35,
   "metadata": {},
   "outputs": [
    {
     "name": "stdout",
     "output_type": "stream",
     "text": [
      "CONTRIBUTING.md  \u001b[0m\u001b[01;34mData\u001b[0m/  index.ipynb  LICENSE.md  README.md\r\n"
     ]
    }
   ],
   "source": [
    "ls"
   ]
  },
  {
   "cell_type": "code",
   "execution_count": 36,
   "metadata": {},
   "outputs": [
    {
     "name": "stdout",
     "output_type": "stream",
     "text": [
      "/home/asynchronous-sandbox-7764/dsc-enterprise-hsbc-importing-data-with-pandas-lab-hsbc-ds-081319/Data\n"
     ]
    }
   ],
   "source": [
    "cd Data"
   ]
  },
  {
   "cell_type": "code",
   "execution_count": 37,
   "metadata": {},
   "outputs": [
    {
     "name": "stdout",
     "output_type": "stream",
     "text": [
      "ACS_16_5YR_B24011_metadata.csv  Yelp_Reviews_Corrupt.csv\r\n",
      "ACS_16_5YR_B24011_with_ann.csv  Yelp_Selected_Businesses.xlsx\r\n",
      "ACS2012_2016_PUMS_README.pdf    Zipcode_Demos.csv\r\n",
      "bp.txt                          Zipcode_Demos.xlsx\r\n"
     ]
    }
   ],
   "source": [
    "ls\n"
   ]
  },
  {
   "cell_type": "code",
   "execution_count": 41,
   "metadata": {},
   "outputs": [
    {
     "name": "stdout",
     "output_type": "stream",
     "text": [
      "/home/asynchronous-sandbox-7764/dsc-enterprise-hsbc-importing-data-with-pandas-lab-hsbc-ds-081319\n"
     ]
    }
   ],
   "source": [
    "cd .."
   ]
  },
  {
   "cell_type": "code",
   "execution_count": null,
   "metadata": {},
   "outputs": [],
   "source": []
  }
 ],
 "metadata": {
  "kernelspec": {
   "display_name": "Python 3",
   "language": "python",
   "name": "python3"
  },
  "language_info": {
   "codemirror_mode": {
    "name": "ipython",
    "version": 3
   },
   "file_extension": ".py",
   "mimetype": "text/x-python",
   "name": "python",
   "nbconvert_exporter": "python",
   "pygments_lexer": "ipython3",
   "version": "3.6.6"
  }
 },
 "nbformat": 4,
 "nbformat_minor": 2
}
